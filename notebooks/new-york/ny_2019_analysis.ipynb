{
 "cells": [
  {
   "cell_type": "markdown",
   "id": "b7ae557d",
   "metadata": {},
   "source": [
    "# NY 2019 Analysis\n",
    "\n",
    "**Process:**\n",
    "1. Upload NY 2019-2021 Data to `test` database\n",
    "2. Companre new NY data with old data-- check for field differences\n",
    "3. Fix or update field differences?\n",
    "4. Upload NY 2019-2021 data to `ny` database\n"
   ]
  },
  {
   "cell_type": "code",
   "execution_count": 1,
   "id": "90656ce0",
   "metadata": {},
   "outputs": [
    {
     "name": "stderr",
     "output_type": "stream",
     "text": [
      "In C:\\Users\\Trang\\anaconda3\\envs\\twitteranalysis\\lib\\site-packages\\matplotlib\\mpl-data\\stylelib\\_classic_test.mplstyle: \n",
      "The text.latex.preview rcparam was deprecated in Matplotlib 3.3 and will be removed two minor releases later.\n",
      "In C:\\Users\\Trang\\anaconda3\\envs\\twitteranalysis\\lib\\site-packages\\matplotlib\\mpl-data\\stylelib\\_classic_test.mplstyle: \n",
      "The mathtext.fallback_to_cm rcparam was deprecated in Matplotlib 3.3 and will be removed two minor releases later.\n",
      "In C:\\Users\\Trang\\anaconda3\\envs\\twitteranalysis\\lib\\site-packages\\matplotlib\\mpl-data\\stylelib\\_classic_test.mplstyle: Support for setting the 'mathtext.fallback_to_cm' rcParam is deprecated since 3.3 and will be removed two minor releases later; use 'mathtext.fallback : 'cm' instead.\n",
      "In C:\\Users\\Trang\\anaconda3\\envs\\twitteranalysis\\lib\\site-packages\\matplotlib\\mpl-data\\stylelib\\_classic_test.mplstyle: \n",
      "The validate_bool_maybe_none function was deprecated in Matplotlib 3.3 and will be removed two minor releases later.\n",
      "In C:\\Users\\Trang\\anaconda3\\envs\\twitteranalysis\\lib\\site-packages\\matplotlib\\mpl-data\\stylelib\\_classic_test.mplstyle: \n",
      "The savefig.jpeg_quality rcparam was deprecated in Matplotlib 3.3 and will be removed two minor releases later.\n",
      "In C:\\Users\\Trang\\anaconda3\\envs\\twitteranalysis\\lib\\site-packages\\matplotlib\\mpl-data\\stylelib\\_classic_test.mplstyle: \n",
      "The keymap.all_axes rcparam was deprecated in Matplotlib 3.3 and will be removed two minor releases later.\n",
      "In C:\\Users\\Trang\\anaconda3\\envs\\twitteranalysis\\lib\\site-packages\\matplotlib\\mpl-data\\stylelib\\_classic_test.mplstyle: \n",
      "The animation.avconv_path rcparam was deprecated in Matplotlib 3.3 and will be removed two minor releases later.\n",
      "In C:\\Users\\Trang\\anaconda3\\envs\\twitteranalysis\\lib\\site-packages\\matplotlib\\mpl-data\\stylelib\\_classic_test.mplstyle: \n",
      "The animation.avconv_args rcparam was deprecated in Matplotlib 3.3 and will be removed two minor releases later.\n"
     ]
    }
   ],
   "source": [
    "import sys\n",
    "sys.path.append(\"../../\") \n",
    "import databasepopulation\n",
    "import communicationwmongo as commu\n",
    "import home_location as home\n",
    "import analysis as a\n",
    "import pymongo\n",
    "import my_h3_functions as myh3"
   ]
  },
  {
   "cell_type": "markdown",
   "id": "1b1c01a9",
   "metadata": {},
   "source": [
    "### 0. Set Up: Import Libraries & Connect to Mongo"
   ]
  },
  {
   "cell_type": "code",
   "execution_count": 2,
   "id": "084395d7",
   "metadata": {},
   "outputs": [
    {
     "data": {
      "text/plain": [
       "<module 'my_h3_functions' from '../..\\\\my_h3_functions.py'>"
      ]
     },
     "execution_count": 2,
     "metadata": {},
     "output_type": "execute_result"
    }
   ],
   "source": [
    "import importlib\n",
    "importlib.reload(databasepopulation)\n",
    "importlib.reload(home)\n",
    "importlib.reload(a)\n",
    "importlib.reload(myh3)"
   ]
  },
  {
   "cell_type": "code",
   "execution_count": null,
   "id": "8f8b1608",
   "metadata": {},
   "outputs": [],
   "source": [
    "# What's the difference between this and following 2 cells?\n",
    "db=commu.connecttoLocaldb(database='test')"
   ]
  },
  {
   "cell_type": "code",
   "execution_count": null,
   "id": "57bc79d3",
   "metadata": {},
   "outputs": [],
   "source": []
  },
  {
   "cell_type": "code",
   "execution_count": null,
   "id": "0b4a7ed0",
   "metadata": {},
   "outputs": [],
   "source": [
    "client = pymongo.MongoClient(uri)\n",
    "db = client['test']"
   ]
  },
  {
   "cell_type": "code",
   "execution_count": null,
   "id": "6f551af6",
   "metadata": {},
   "outputs": [],
   "source": [
    "#test one\n",
    "db.test.insert_one({'test':True})\n",
    "db.test.find_one()\n",
    "\n",
    "## Need to delete one in Sydney DB (accident)"
   ]
  },
  {
   "cell_type": "markdown",
   "id": "13de339f",
   "metadata": {},
   "source": [
    "## 1. Upload NY '19-'21 Data Onto `test`"
   ]
  },
  {
   "cell_type": "code",
   "execution_count": null,
   "id": "749eda6f",
   "metadata": {},
   "outputs": [],
   "source": [
    "PATH = 'C:\\Users\\Trang\\Box\\Twitter data\\North America\\NY 2019-21\\rpa.csv'\n",
    "chunksize=1000"
   ]
  },
  {
   "cell_type": "code",
   "execution_count": null,
   "id": "abe95785",
   "metadata": {},
   "outputs": [],
   "source": [
    "# Function - does it work for new data's file name? if not, only run following cell.\n",
    "databasepopulation.populatetweets(db, path=PATH, cityprefix='sydney', yearstart=2012, yearend=2012)"
   ]
  },
  {
   "cell_type": "code",
   "execution_count": null,
   "id": "d6921812",
   "metadata": {},
   "outputs": [],
   "source": [
    "for df in pd.read_csv(PATH, chunksize=chunksize):\n",
    "    db.tweets.insert_many(df.to_dict('records'))\n",
    "\n",
    "print('process completed')"
   ]
  },
  {
   "cell_type": "markdown",
   "id": "65d341ad",
   "metadata": {},
   "source": [
    "## 2. Compare Differences\n",
    "\n",
    "Notes:\n"
   ]
  },
  {
   "cell_type": "code",
   "execution_count": null,
   "id": "2f7efd6f",
   "metadata": {},
   "outputs": [],
   "source": []
  },
  {
   "cell_type": "markdown",
   "id": "fc3e4445",
   "metadata": {},
   "source": [
    "## 3. Fix Differences"
   ]
  },
  {
   "cell_type": "code",
   "execution_count": null,
   "id": "4db72f88",
   "metadata": {},
   "outputs": [],
   "source": []
  },
  {
   "cell_type": "markdown",
   "id": "2bb8b5ca",
   "metadata": {},
   "source": [
    "## 4. Upload NY '19-'21 Data Onto `ny`"
   ]
  },
  {
   "cell_type": "code",
   "execution_count": null,
   "id": "0add7e6d",
   "metadata": {},
   "outputs": [],
   "source": [
    "db1 = client['ny']\n",
    "for df in pd.read_csv(PATH, chunksize=chunksize):\n",
    "    db1.tweets.insert_many(df.to_dict('records'))\n",
    "\n",
    "print('process completed')"
   ]
  }
 ],
 "metadata": {
  "kernelspec": {
   "display_name": "Python 3",
   "language": "python",
   "name": "python3"
  },
  "language_info": {
   "codemirror_mode": {
    "name": "ipython",
    "version": 3
   },
   "file_extension": ".py",
   "mimetype": "text/x-python",
   "name": "python",
   "nbconvert_exporter": "python",
   "pygments_lexer": "ipython3",
   "version": "3.6.13"
  }
 },
 "nbformat": 4,
 "nbformat_minor": 5
}
